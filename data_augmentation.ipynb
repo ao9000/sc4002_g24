{
 "cells": [
  {
   "metadata": {},
   "cell_type": "markdown",
   "source": "# Back translation",
   "id": "69c2702723daad77"
  },
  {
   "metadata": {},
   "cell_type": "markdown",
   "source": "# Load dataset",
   "id": "5d4023527654c94"
  },
  {
   "cell_type": "code",
   "id": "initial_id",
   "metadata": {
    "collapsed": true,
    "ExecuteTime": {
     "end_time": "2024-10-25T17:02:44.822820Z",
     "start_time": "2024-10-25T17:02:34.247613Z"
    }
   },
   "source": [
    "from datasets import load_dataset\n",
    "\n",
    "dataset = load_dataset('rotten_tomatoes')\n",
    "train_dataset = dataset['train']\n",
    "validation_dataset = dataset['validation']\n",
    "test_dataset = dataset['test']"
   ],
   "outputs": [
    {
     "name": "stderr",
     "output_type": "stream",
     "text": [
      "C:\\Users\\Aozy\\anaconda3\\envs\\sc4002\\Lib\\site-packages\\tqdm\\auto.py:21: TqdmWarning: IProgress not found. Please update jupyter and ipywidgets. See https://ipywidgets.readthedocs.io/en/stable/user_install.html\n",
      "  from .autonotebook import tqdm as notebook_tqdm\n"
     ]
    }
   ],
   "execution_count": 1
  },
  {
   "metadata": {
    "ExecuteTime": {
     "end_time": "2024-10-25T17:02:44.844334Z",
     "start_time": "2024-10-25T17:02:44.833810Z"
    }
   },
   "cell_type": "code",
   "source": "train_dataset[:20]",
   "id": "6c3f0754ed17899b",
   "outputs": [
    {
     "data": {
      "text/plain": [
       "{'text': ['the rock is destined to be the 21st century\\'s new \" conan \" and that he\\'s going to make a splash even greater than arnold schwarzenegger , jean-claud van damme or steven segal .',\n",
       "  'the gorgeously elaborate continuation of \" the lord of the rings \" trilogy is so huge that a column of words cannot adequately describe co-writer/director peter jackson\\'s expanded vision of j . r . r . tolkien\\'s middle-earth .',\n",
       "  'effective but too-tepid biopic',\n",
       "  'if you sometimes like to go to the movies to have fun , wasabi is a good place to start .',\n",
       "  \"emerges as something rare , an issue movie that's so honest and keenly observed that it doesn't feel like one .\",\n",
       "  'the film provides some great insight into the neurotic mindset of all comics -- even those who have reached the absolute top of the game .',\n",
       "  'offers that rare combination of entertainment and education .',\n",
       "  'perhaps no picture ever made has more literally showed that the road to hell is paved with good intentions .',\n",
       "  \"steers turns in a snappy screenplay that curls at the edges ; it's so clever you want to hate it . but he somehow pulls it off .\",\n",
       "  'take care of my cat offers a refreshingly different slice of asian cinema .',\n",
       "  'this is a film well worth seeing , talking and singing heads and all .',\n",
       "  'what really surprises about wisegirls is its low-key quality and genuine tenderness .',\n",
       "  '( wendigo is ) why we go to the cinema : to be fed through the eye , the heart , the mind .',\n",
       "  'one of the greatest family-oriented , fantasy-adventure movies ever .',\n",
       "  'ultimately , it ponders the reasons we need stories so much .',\n",
       "  \"an utterly compelling 'who wrote it' in which the reputation of the most famous author who ever lived comes into question .\",\n",
       "  'illuminating if overly talky documentary .',\n",
       "  'a masterpiece four years in the making .',\n",
       "  \"the movie's ripe , enrapturing beauty will tempt those willing to probe its inscrutable mysteries .\",\n",
       "  'offers a breath of the fresh air of true sophistication .'],\n",
       " 'label': [1, 1, 1, 1, 1, 1, 1, 1, 1, 1, 1, 1, 1, 1, 1, 1, 1, 1, 1, 1]}"
      ]
     },
     "execution_count": 2,
     "metadata": {},
     "output_type": "execute_result"
    }
   ],
   "execution_count": 2
  },
  {
   "metadata": {},
   "cell_type": "markdown",
   "source": "# Test translation",
   "id": "886a9e23dc3ea6cc"
  },
  {
   "metadata": {
    "ExecuteTime": {
     "end_time": "2024-10-25T17:02:45.212628Z",
     "start_time": "2024-10-25T17:02:44.916180Z"
    }
   },
   "cell_type": "code",
   "source": [
    "import translators as ts\n",
    "# _ = ts.preaccelerate_and_speedtest()"
   ],
   "id": "3509759af54fc190",
   "outputs": [],
   "execution_count": 3
  },
  {
   "metadata": {
    "ExecuteTime": {
     "end_time": "2024-10-25T17:02:45.654410Z",
     "start_time": "2024-10-25T17:02:45.223042Z"
    }
   },
   "cell_type": "code",
   "source": [
    "print(ts.translators_pool)\n",
    "print(ts.translate_text(\"HELLO\", from_language='en', to_language='zh', translator='bing'))"
   ],
   "id": "f6001e47805a12a4",
   "outputs": [
    {
     "name": "stdout",
     "output_type": "stream",
     "text": [
      "['alibaba', 'apertium', 'argos', 'baidu', 'bing', 'caiyun', 'cloudTranslation', 'deepl', 'elia', 'google', 'hujiang', 'iciba', 'iflytek', 'iflyrec', 'itranslate', 'judic', 'languageWire', 'lingvanex', 'niutrans', 'mglip', 'mirai', 'modernMt', 'myMemory', 'papago', 'qqFanyi', 'qqTranSmart', 'reverso', 'sogou', 'sysTran', 'tilde', 'translateCom', 'translateMe', 'utibet', 'volcEngine', 'yandex', 'yeekit', 'youdao']\n",
      "你好\n"
     ]
    }
   ],
   "execution_count": 4
  },
  {
   "metadata": {},
   "cell_type": "markdown",
   "source": "# Loop through the dataset and perform back translation",
   "id": "f04420153d3dfdb1"
  },
  {
   "metadata": {},
   "cell_type": "markdown",
   "source": "- Choose a English-like language to not lose information",
   "id": "f785904c9f9aece7"
  },
  {
   "metadata": {},
   "cell_type": "markdown",
   "source": [
    "Mandarin loses information\n",
    "```\n",
    "the rock is destined to be the 21st century's new \" conan \" and that he's going to make a splash even greater than arnold schwarzenegger , jean-claud van damme or steven segal .\n",
    "这块石头注定要成为 21 世纪的新“柯南”，他将比阿诺德·施瓦辛格、让-克劳德·范·达姆或史蒂文·西格尔更引起轰动。\n",
    "This stone is destined to be the new \"Conan\" of the 21st century, and he will be more sensational than Arnold· Schwarzenegger, Jean-Claude· Van · Dam or Steven · Siegel.\n",
    "```"
   ],
   "id": "fdbda45129065814"
  },
  {
   "metadata": {
    "ExecuteTime": {
     "end_time": "2024-10-25T17:02:45.670413Z",
     "start_time": "2024-10-25T17:02:45.662164Z"
    }
   },
   "cell_type": "code",
   "source": [
    "def clean_text(sentence):\n",
    "    # Case folding\n",
    "    sentence = sentence.lower()\n",
    "    # Remove all punctuation\n",
    "    sentence = re.sub(r'[^\\w\\s]', ' ', sentence)\n",
    "    # Remove extra whitespace\n",
    "    sentence = ' '.join(sentence.split())\n",
    "    return sentence\n",
    "\n",
    "def word_level_edit_distance(sentence1, sentence2):\n",
    "    # Split sentences into words\n",
    "    words1 = sentence1.split()\n",
    "    words2 = sentence2.split()\n",
    "    \n",
    "    # Create matrix for DP calculation of edit dist, modified to word level instead\n",
    "    matrix = [[0 for _ in range(len(words2) + 1)] for _ in range(len(words1) + 1)]\n",
    "    \n",
    "    # Init 0-word_len-1 matrix\n",
    "    for i in range(len(words1) + 1):\n",
    "        matrix[i][0] = i\n",
    "    for j in range(len(words2) + 1):\n",
    "        matrix[0][j] = j\n",
    "        \n",
    "    # Fill in with match rules\n",
    "    for i in range(1, len(words1) + 1):\n",
    "        for j in range(1, len(words2) + 1):\n",
    "            if words1[i-1] == words2[j-1]:\n",
    "                matrix[i][j] = matrix[i-1][j-1]\n",
    "            else:\n",
    "                matrix[i][j] = min(\n",
    "                    matrix[i-1][j] + 1,    # deletion\n",
    "                    matrix[i][j-1] + 1,    # insertion\n",
    "                    matrix[i-1][j-1] + 1   # substitution\n",
    "                )\n",
    "    \n",
    "    return matrix[len(words1)][len(words2)]"
   ],
   "id": "babdada76e008fca",
   "outputs": [],
   "execution_count": 5
  },
  {
   "metadata": {
    "ExecuteTime": {
     "end_time": "2024-10-25T17:02:45.685799Z",
     "start_time": "2024-10-25T17:02:45.680952Z"
    }
   },
   "cell_type": "code",
   "source": "word_level_edit_distance('hello world i a', 'hello worlds i am a')",
   "id": "90937c66bee5c6df",
   "outputs": [
    {
     "data": {
      "text/plain": [
       "2"
      ]
     },
     "execution_count": 6,
     "metadata": {},
     "output_type": "execute_result"
    }
   ],
   "execution_count": 6
  },
  {
   "metadata": {
    "ExecuteTime": {
     "end_time": "2024-10-25T18:09:36.448756Z",
     "start_time": "2024-10-25T17:02:45.705982Z"
    }
   },
   "cell_type": "code",
   "source": [
    "import re\n",
    "import pandas as pd\n",
    "from tqdm import tqdm\n",
    "\n",
    "word_level_edit_distance_threshold = 5 # At least need 5 words to be different\n",
    "\n",
    "augmented_dataset = pd.DataFrame(columns=['text', 'label'])\n",
    "for row in tqdm(train_dataset, total=len(train_dataset), desc=\"Augmenting Dataset\"):\n",
    "    sentence = row['text']\n",
    "    label = row['label']\n",
    "    \n",
    "    # Translate to another language\n",
    "    translated_sentence = ts.translate_text(sentence, from_language='en', to_language='fr', translator='bing')\n",
    "    \n",
    "    # Translate back to english\n",
    "    translated_back_sentence = ts.translate_text(translated_sentence, from_language='fr', to_language='en', translator='bing')\n",
    "    \n",
    "    # Check if the original vs back translation is the same, if same, then discard\n",
    "    # Need to do some cleaning to ensure differences are not due to punctuation\n",
    "    # Also have a edit distance thresh, because we dont want minor changes samples to inflate the dataset\n",
    "    cleaned_original = clean_text(sentence).strip()\n",
    "    cleaned_back_translated = clean_text(translated_back_sentence).strip()\n",
    "    \n",
    "    if cleaned_original == cleaned_back_translated.strip():\n",
    "        continue\n",
    "        \n",
    "    # Check if the edit distance is greater than threshold\n",
    "    if word_level_edit_distance(cleaned_original, cleaned_back_translated) < word_level_edit_distance_threshold:\n",
    "        continue\n",
    "        \n",
    "    # Append to augmented dataset\n",
    "    augmented_dataset.loc[len(augmented_dataset)] = {\n",
    "        'text': translated_back_sentence, \n",
    "        'label': label\n",
    "    }\n",
    "    \n",
    "    # print(f\"Original: {cleaned_original}\")\n",
    "    # print(f\"Back Translated: {cleaned_back_translated}\\n\")"
   ],
   "id": "fb5f403744eb50d3",
   "outputs": [
    {
     "name": "stderr",
     "output_type": "stream",
     "text": [
      "Augmenting Dataset: 100%|██████████| 8530/8530 [1:06:50<00:00,  2.13it/s]\n"
     ]
    }
   ],
   "execution_count": 7
  },
  {
   "metadata": {},
   "cell_type": "markdown",
   "source": "# Save augmented dataset",
   "id": "f4ee1935205adcc2"
  },
  {
   "metadata": {
    "ExecuteTime": {
     "end_time": "2024-10-25T18:09:36.508719Z",
     "start_time": "2024-10-25T18:09:36.500678Z"
    }
   },
   "cell_type": "code",
   "source": "len(augmented_dataset)",
   "id": "539e1e5fb47f9e2f",
   "outputs": [
    {
     "data": {
      "text/plain": [
       "4405"
      ]
     },
     "execution_count": 8,
     "metadata": {},
     "output_type": "execute_result"
    }
   ],
   "execution_count": 8
  },
  {
   "metadata": {
    "ExecuteTime": {
     "end_time": "2024-10-25T18:12:41.977013Z",
     "start_time": "2024-10-25T18:12:41.765371Z"
    }
   },
   "cell_type": "code",
   "source": [
    "train_df = pd.DataFrame(dataset['train'])\n",
    "\n",
    "# Add to original dataset\n",
    "original_augmented_dataset = pd.concat([train_df, augmented_dataset], ignore_index=True)\n",
    "\n",
    "# Save in csv\n",
    "original_augmented_dataset.to_csv('augmented_combined_train_dataset.csv', index=False)"
   ],
   "id": "eeb8c0c169c3140",
   "outputs": [],
   "execution_count": 12
  },
  {
   "metadata": {
    "ExecuteTime": {
     "end_time": "2024-10-25T18:13:37.239412Z",
     "start_time": "2024-10-25T18:13:37.234986Z"
    }
   },
   "cell_type": "code",
   "source": "len(original_augmented_dataset)",
   "id": "ab0b8e44a58cf45a",
   "outputs": [
    {
     "data": {
      "text/plain": [
       "12935"
      ]
     },
     "execution_count": 14,
     "metadata": {},
     "output_type": "execute_result"
    }
   ],
   "execution_count": 14
  },
  {
   "metadata": {},
   "cell_type": "code",
   "outputs": [],
   "execution_count": null,
   "source": "",
   "id": "4909e6c3d78753ab"
  }
 ],
 "metadata": {
  "kernelspec": {
   "display_name": "Python 3",
   "language": "python",
   "name": "python3"
  },
  "language_info": {
   "codemirror_mode": {
    "name": "ipython",
    "version": 2
   },
   "file_extension": ".py",
   "mimetype": "text/x-python",
   "name": "python",
   "nbconvert_exporter": "python",
   "pygments_lexer": "ipython2",
   "version": "2.7.6"
  }
 },
 "nbformat": 4,
 "nbformat_minor": 5
}
