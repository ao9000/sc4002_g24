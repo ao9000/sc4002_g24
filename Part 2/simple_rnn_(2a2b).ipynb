{
  "cells": [
    {
      "cell_type": "markdown",
      "source": [
        "## **Part 2. Model Training & Evaluation - RNN**"
      ],
      "metadata": {
        "id": "y2w1Lg9rsTST"
      }
    },
    {
      "cell_type": "code",
      "source": [
        "!pip install datasets\n",
        "!pip install nltk"
      ],
      "metadata": {
        "colab": {
          "base_uri": "https://localhost:8080/"
        },
        "id": "4TDr4VK3pdn8",
        "outputId": "82362083-5ce8-488c-a8e3-1cc328228a23"
      },
      "execution_count": 38,
      "outputs": [
        {
          "output_type": "stream",
          "name": "stdout",
          "text": [
            "Requirement already satisfied: datasets in /usr/local/lib/python3.10/dist-packages (3.0.2)\n",
            "Requirement already satisfied: filelock in /usr/local/lib/python3.10/dist-packages (from datasets) (3.16.1)\n",
            "Requirement already satisfied: numpy>=1.17 in /usr/local/lib/python3.10/dist-packages (from datasets) (1.26.4)\n",
            "Requirement already satisfied: pyarrow>=15.0.0 in /usr/local/lib/python3.10/dist-packages (from datasets) (16.1.0)\n",
            "Requirement already satisfied: dill<0.3.9,>=0.3.0 in /usr/local/lib/python3.10/dist-packages (from datasets) (0.3.8)\n",
            "Requirement already satisfied: pandas in /usr/local/lib/python3.10/dist-packages (from datasets) (2.2.2)\n",
            "Requirement already satisfied: requests>=2.32.2 in /usr/local/lib/python3.10/dist-packages (from datasets) (2.32.3)\n",
            "Requirement already satisfied: tqdm>=4.66.3 in /usr/local/lib/python3.10/dist-packages (from datasets) (4.66.5)\n",
            "Requirement already satisfied: xxhash in /usr/local/lib/python3.10/dist-packages (from datasets) (3.5.0)\n",
            "Requirement already satisfied: multiprocess<0.70.17 in /usr/local/lib/python3.10/dist-packages (from datasets) (0.70.16)\n",
            "Requirement already satisfied: fsspec<=2024.9.0,>=2023.1.0 in /usr/local/lib/python3.10/dist-packages (from fsspec[http]<=2024.9.0,>=2023.1.0->datasets) (2024.6.1)\n",
            "Requirement already satisfied: aiohttp in /usr/local/lib/python3.10/dist-packages (from datasets) (3.10.10)\n",
            "Requirement already satisfied: huggingface-hub>=0.23.0 in /usr/local/lib/python3.10/dist-packages (from datasets) (0.24.7)\n",
            "Requirement already satisfied: packaging in /usr/local/lib/python3.10/dist-packages (from datasets) (24.1)\n",
            "Requirement already satisfied: pyyaml>=5.1 in /usr/local/lib/python3.10/dist-packages (from datasets) (6.0.2)\n",
            "Requirement already satisfied: aiohappyeyeballs>=2.3.0 in /usr/local/lib/python3.10/dist-packages (from aiohttp->datasets) (2.4.3)\n",
            "Requirement already satisfied: aiosignal>=1.1.2 in /usr/local/lib/python3.10/dist-packages (from aiohttp->datasets) (1.3.1)\n",
            "Requirement already satisfied: attrs>=17.3.0 in /usr/local/lib/python3.10/dist-packages (from aiohttp->datasets) (24.2.0)\n",
            "Requirement already satisfied: frozenlist>=1.1.1 in /usr/local/lib/python3.10/dist-packages (from aiohttp->datasets) (1.5.0)\n",
            "Requirement already satisfied: multidict<7.0,>=4.5 in /usr/local/lib/python3.10/dist-packages (from aiohttp->datasets) (6.1.0)\n",
            "Requirement already satisfied: yarl<2.0,>=1.12.0 in /usr/local/lib/python3.10/dist-packages (from aiohttp->datasets) (1.16.0)\n",
            "Requirement already satisfied: async-timeout<5.0,>=4.0 in /usr/local/lib/python3.10/dist-packages (from aiohttp->datasets) (4.0.3)\n",
            "Requirement already satisfied: typing-extensions>=3.7.4.3 in /usr/local/lib/python3.10/dist-packages (from huggingface-hub>=0.23.0->datasets) (4.12.2)\n",
            "Requirement already satisfied: charset-normalizer<4,>=2 in /usr/local/lib/python3.10/dist-packages (from requests>=2.32.2->datasets) (3.4.0)\n",
            "Requirement already satisfied: idna<4,>=2.5 in /usr/local/lib/python3.10/dist-packages (from requests>=2.32.2->datasets) (3.10)\n",
            "Requirement already satisfied: urllib3<3,>=1.21.1 in /usr/local/lib/python3.10/dist-packages (from requests>=2.32.2->datasets) (2.2.3)\n",
            "Requirement already satisfied: certifi>=2017.4.17 in /usr/local/lib/python3.10/dist-packages (from requests>=2.32.2->datasets) (2024.8.30)\n",
            "Requirement already satisfied: python-dateutil>=2.8.2 in /usr/local/lib/python3.10/dist-packages (from pandas->datasets) (2.8.2)\n",
            "Requirement already satisfied: pytz>=2020.1 in /usr/local/lib/python3.10/dist-packages (from pandas->datasets) (2024.2)\n",
            "Requirement already satisfied: tzdata>=2022.7 in /usr/local/lib/python3.10/dist-packages (from pandas->datasets) (2024.2)\n",
            "Requirement already satisfied: six>=1.5 in /usr/local/lib/python3.10/dist-packages (from python-dateutil>=2.8.2->pandas->datasets) (1.16.0)\n",
            "Requirement already satisfied: propcache>=0.2.0 in /usr/local/lib/python3.10/dist-packages (from yarl<2.0,>=1.12.0->aiohttp->datasets) (0.2.0)\n",
            "Requirement already satisfied: nltk in /usr/local/lib/python3.10/dist-packages (3.8.1)\n",
            "Requirement already satisfied: click in /usr/local/lib/python3.10/dist-packages (from nltk) (8.1.7)\n",
            "Requirement already satisfied: joblib in /usr/local/lib/python3.10/dist-packages (from nltk) (1.4.2)\n",
            "Requirement already satisfied: regex>=2021.8.3 in /usr/local/lib/python3.10/dist-packages (from nltk) (2024.9.11)\n",
            "Requirement already satisfied: tqdm in /usr/local/lib/python3.10/dist-packages (from nltk) (4.66.5)\n"
          ]
        }
      ]
    },
    {
      "cell_type": "code",
      "execution_count": 39,
      "metadata": {
        "id": "rjSdk2d5pYFx"
      },
      "outputs": [],
      "source": [
        "import torch\n",
        "import torch.nn as nn\n",
        "import torch.optim as optim\n",
        "from torch.utils.data import DataLoader, Dataset\n",
        "import numpy as np\n",
        "import pickle\n",
        "from datasets import load_dataset"
      ]
    },
    {
      "cell_type": "code",
      "execution_count": 40,
      "metadata": {
        "colab": {
          "base_uri": "https://localhost:8080/"
        },
        "id": "EUXH3fHypYF0",
        "outputId": "5629297a-7052-4b07-a11a-51cd27c69ac2"
      },
      "outputs": [
        {
          "output_type": "stream",
          "name": "stdout",
          "text": [
            "267\n"
          ]
        }
      ],
      "source": [
        "# Load the Rotten Tomatoes dataset\n",
        "dataset = load_dataset(\"rotten_tomatoes\")\n",
        "train_dataset = dataset['train']\n",
        "valid_dataset = dataset['validation']\n",
        "test_dataset = dataset['test']\n",
        "\n",
        "train_text = train_dataset.to_pandas()['text']\n",
        "\n",
        "max_text_len = 0\n",
        "for text in train_text:\n",
        "    max_text_len = max(max_text_len, len(text))\n",
        "\n",
        "print(max_text_len)\n"
      ]
    },
    {
      "cell_type": "code",
      "execution_count": 41,
      "metadata": {
        "colab": {
          "base_uri": "https://localhost:8080/"
        },
        "id": "KT7o6WCYpYF1",
        "outputId": "5a33c156-074b-4914-fc0e-b1346fd726b8"
      },
      "outputs": [
        {
          "output_type": "stream",
          "name": "stdout",
          "text": [
            "{'text': 'the rock is destined to be the 21st century\\'s new \" conan \" and that he\\'s going to make a splash even greater than arnold schwarzenegger , jean-claud van damme or steven segal .', 'label': 1}\n"
          ]
        }
      ],
      "source": [
        "print(train_dataset[0])"
      ]
    },
    {
      "cell_type": "code",
      "execution_count": 42,
      "metadata": {
        "colab": {
          "base_uri": "https://localhost:8080/"
        },
        "id": "MQRGBCnbpYF1",
        "outputId": "e37f17a6-e902-4ad2-d613-856f39cee3a5"
      },
      "outputs": [
        {
          "output_type": "stream",
          "name": "stdout",
          "text": [
            "<class 'numpy.ndarray'>\n",
            "<class 'dict'>\n"
          ]
        }
      ],
      "source": [
        "# Load the embedding matrix and vocab from files\n",
        "with open('embedding_matrix_300d.pkl', 'rb') as f:\n",
        "    embedding_matrix = pickle.load(f).astype(np.float32)\n",
        "    padding = [0 for i in range(300)]\n",
        "    embedding_matrix = np.insert(embedding_matrix, 0, padding, 0)\n",
        "    print(type(embedding_matrix))\n",
        "\n",
        "with open('vocab_word_to_index_300d.pkl', 'rb') as f:\n",
        "    vocab_word_to_index = pickle.load(f)\n",
        "    print(type(vocab_word_to_index))\n",
        "\n",
        "# Convert to torch tensors\n",
        "embedding_matrix = torch.tensor(embedding_matrix)\n",
        "vocab_size, embedding_dim = embedding_matrix.shape\n",
        "#print(embedding_matrix[0])"
      ]
    },
    {
      "cell_type": "code",
      "execution_count": 43,
      "metadata": {
        "id": "13uwogGcpYF2"
      },
      "outputs": [],
      "source": [
        "import numpy as np\n",
        "import torch\n",
        "import nltk\n",
        "from torch.utils.data import TensorDataset, DataLoader\n",
        "\n",
        "class SentimentDataset:\n",
        "    def __init__(self, dataset, word_to_index, max_len=30):\n",
        "        self.dataset = dataset\n",
        "        self.word_to_index = word_to_index\n",
        "        self.max_len = max_len\n",
        "\n",
        "    def __len__(self):\n",
        "        return len(self.dataset)\n",
        "\n",
        "    def __getitem__(self, idx):\n",
        "        text = self.dataset[idx]['text']\n",
        "        label = self.dataset[idx]['label']\n",
        "\n",
        "        # Tokenization and word-to-index conversion\n",
        "        text = text.lower()\n",
        "        word_list = nltk.tokenize.word_tokenize(text)\n",
        "        word_list = [word.strip(\"'\\\"\") for word in word_list]\n",
        "        indices = [self.word_to_index.get(word, self.word_to_index.get('<UNK>')) + 1 for word in word_list]\n",
        "        indices = indices[:self.max_len] + [0] * (self.max_len - len(indices))  # Padding\n",
        "\n",
        "        return np.array(indices), np.array(label)\n",
        "\n",
        "    def preprocess_data(self):\n",
        "        texts = []\n",
        "        labels = []\n",
        "        for i in range(len(self.dataset)):\n",
        "            features, label = self.__getitem__(i)\n",
        "            texts.append(features)\n",
        "            labels.append(label)\n",
        "        return np.array(texts), np.array(labels)\n",
        "\n",
        "train_texts, train_labels = SentimentDataset(train_dataset, vocab_word_to_index, max_len=30).preprocess_data()\n",
        "valid_texts, valid_labels = SentimentDataset(valid_dataset, vocab_word_to_index, max_len=30).preprocess_data()\n",
        "test_texts, test_labels = SentimentDataset(test_dataset, vocab_word_to_index, max_len=30).preprocess_data()\n",
        "\n",
        "# Convert preprocessed arrays to PyTorch tensors\n",
        "train_texts = torch.tensor(train_texts)\n",
        "train_labels = torch.tensor(train_labels)\n",
        "valid_texts = torch.tensor(valid_texts)\n",
        "valid_labels = torch.tensor(valid_labels)\n",
        "test_texts = torch.tensor(test_texts)\n",
        "test_labels = torch.tensor(test_labels)\n",
        "\n",
        "train_dataset = TensorDataset(train_texts, train_labels)\n",
        "valid_dataset = TensorDataset(valid_texts, valid_labels)\n",
        "test_dataset = TensorDataset(test_texts, test_labels)\n",
        "\n",
        "train_loader = DataLoader(train_dataset, batch_size=128, shuffle=True)\n",
        "valid_loader = DataLoader(valid_dataset, batch_size=128, shuffle=False)\n",
        "test_loader = DataLoader(test_dataset, batch_size=128, shuffle=False)\n"
      ]
    },
    {
      "cell_type": "code",
      "source": [
        "nltk.download('punkt')"
      ],
      "metadata": {
        "colab": {
          "base_uri": "https://localhost:8080/"
        },
        "id": "lRBSU8pMqdSV",
        "outputId": "253abad5-32aa-4bf1-adbf-5edeae9fedfd"
      },
      "execution_count": 44,
      "outputs": [
        {
          "output_type": "stream",
          "name": "stderr",
          "text": [
            "[nltk_data] Downloading package punkt to /root/nltk_data...\n",
            "[nltk_data]   Package punkt is already up-to-date!\n"
          ]
        },
        {
          "output_type": "execute_result",
          "data": {
            "text/plain": [
              "True"
            ]
          },
          "metadata": {},
          "execution_count": 44
        }
      ]
    },
    {
      "cell_type": "markdown",
      "source": [
        "# Vanilla RNN - Hidden Representation"
      ],
      "metadata": {
        "id": "oCJzbozz-h-7"
      }
    },
    {
      "cell_type": "code",
      "execution_count": 45,
      "metadata": {
        "id": "j_pAK6cRpYF2"
      },
      "outputs": [],
      "source": [
        "device = torch.device('cuda' if torch.cuda.is_available() else 'cpu')\n",
        "class SentimentRNN(nn.Module):\n",
        "    def __init__(self, embedding_matrix, hidden_dim, output_dim, num_layers = 1, freeze_embeddings=True, dropout = 0.5):\n",
        "        super(SentimentRNN, self).__init__()\n",
        "        self.embedding = nn.Embedding.from_pretrained(embedding_matrix, freeze=freeze_embeddings)\n",
        "        self.rnn = nn.RNN(embedding_dim, hidden_dim, num_layers, batch_first=True, device= device)\n",
        "        #self.dropout = nn.Dropout(dropout)\n",
        "        self.fc = nn.Linear(hidden_dim, output_dim, device= device)\n",
        "        self.sigmoid = nn.Sigmoid()\n",
        "        self.device = device\n",
        "\n",
        "\n",
        "    def forward(self, x):\n",
        "        embedded = self.embedding(x)\n",
        "        out, hidden = self.rnn(embedded)\n",
        "        out = out[:, -1, :]\n",
        "        #out = self.dropout(out[:, -1, :])\n",
        "        out = self.fc(out)\n",
        "        out = self.sigmoid(out)\n",
        "        return out\n",
        "\n",
        "# Model hyperparameters\n",
        "hidden_dim = 128\n",
        "output_dim = 1  # Binary classification (positive, negative)\n",
        "\n",
        "model = SentimentRNN(embedding_matrix, hidden_dim, output_dim, 1)"
      ]
    },
    {
      "cell_type": "code",
      "execution_count": 46,
      "metadata": {
        "id": "3R_GNY7_pYF3"
      },
      "outputs": [],
      "source": [
        "optimizer = optim.Adam(model.parameters(), lr=0.0001)\n",
        "criterion = nn.BCELoss()\n",
        "\n",
        "# Move model to GPU if available\n",
        "model.to(device)\n",
        "\n",
        "patience = 5\n",
        "best_metric = None\n",
        "no_improvement_count = 0\n",
        "\n",
        "# Training function\n",
        "def train_model(model, train_loader, valid_loader, epochs=30):\n",
        "    global best_metric, no_improvement_count #variables for early stopping\n",
        "    for epoch in range(epochs):\n",
        "        # Set model to training mode\n",
        "        model.train()\n",
        "        total_train_loss = 0\n",
        "        total_train_correct = 0\n",
        "        total_train_samples = 0\n",
        "\n",
        "        for texts, labels in train_loader:\n",
        "            texts, labels = texts.to(device), labels.to(device)\n",
        "\n",
        "            optimizer.zero_grad()  # Reset gradients\n",
        "\n",
        "            # Forward pass: get predictions\n",
        "            predictions = model(texts)\n",
        "\n",
        "            # Compute the loss\n",
        "            loss = criterion(predictions, labels.unsqueeze(1).float())\n",
        "            total_train_loss += loss.item()\n",
        "\n",
        "            # Backpropagation and optimization\n",
        "            loss.backward()\n",
        "            optimizer.step()\n",
        "\n",
        "            # Accuracy calculation\n",
        "            predicted_labels = (predictions > 0.5).int()\n",
        "            total_train_correct += (predicted_labels.squeeze() == labels).sum().item()\n",
        "\n",
        "            #print(total_train_correct)\n",
        "            total_train_samples += labels.size(0)\n",
        "\n",
        "        # Calculate and print average training accuracy and loss per epoch\n",
        "        train_accuracy = total_train_correct / total_train_samples\n",
        "        train_loss = total_train_loss / len(train_loader)\n",
        "\n",
        "        # Evaluate model on validation set\n",
        "        valid_accuracy = evaluate_model(model, valid_loader)\n",
        "\n",
        "        print(f'Epoch {epoch+1} | Train Loss: {train_loss:.4f} | Train Accuracy: {train_accuracy:.4f} | Validation Accuracy: {valid_accuracy:.4f}')\n",
        "\n",
        "        # Early stopping check\n",
        "        if best_metric is None or valid_accuracy > best_metric:\n",
        "            best_metric = valid_accuracy\n",
        "            no_improvement_count = 0  # Reset counter\n",
        "            torch.save(model.state_dict(), 'best_model.pt')  # Save best model state\n",
        "        else:\n",
        "            no_improvement_count += 1  # Increment counter if no improvement\n",
        "\n",
        "        if no_improvement_count >= patience:\n",
        "            print(f\"Early stopping triggered after {epoch+1} epochs\")\n",
        "            break  # Exit training loop if no improvement for `patience` epochs\n",
        "\n",
        "def evaluate_model(model, loader):\n",
        "    model.eval()\n",
        "    correct = 0\n",
        "    total = 0\n",
        "    with torch.no_grad():\n",
        "        for texts, labels in loader:\n",
        "            texts, labels = texts.to(device), labels.to(device)\n",
        "            predictions = model(texts)\n",
        "            predicted_labels = (predictions >= 0.5).int()\n",
        "            correct += (predicted_labels.squeeze() == labels).sum().item()\n",
        "            total += labels.size(0)\n",
        "    return correct / total"
      ]
    },
    {
      "cell_type": "code",
      "source": [
        "import random\n",
        "random.seed(42)\n",
        "\n",
        "np.random.seed(42)\n",
        "\n",
        "torch.manual_seed(42)\n",
        "if torch.cuda.is_available():\n",
        "    torch.cuda.manual_seed(42)\n",
        "    torch.cuda.manual_seed_all(42)\n",
        "\n",
        "# Ensure deterministic behavior for cuDNN (CUDA)\n",
        "torch.backends.cudnn.deterministic = True\n",
        "torch.backends.cudnn.benchmark = False"
      ],
      "metadata": {
        "id": "vMb6KEXXp7d0"
      },
      "execution_count": 47,
      "outputs": []
    },
    {
      "cell_type": "markdown",
      "metadata": {
        "id": "88zkzTQ-pYF3"
      },
      "source": []
    },
    {
      "cell_type": "markdown",
      "source": [
        "# Vanilla RNN (2a & 2b) [Best Model]\n",
        " **Learning Rate:**  = 0.0001\n",
        "\n",
        " **Batch Size:** =  128\n",
        "\n",
        " **Optimiser**  = Adam\n",
        "\n",
        " **Epochs (with Early Stopping)**  = 28\n",
        "\n",
        " **Accuracy:** = 75.8%\n"
      ],
      "metadata": {
        "id": "Gv1vw2nbwJ8i"
      }
    },
    {
      "cell_type": "code",
      "execution_count": 48,
      "metadata": {
        "colab": {
          "base_uri": "https://localhost:8080/"
        },
        "id": "851vLzy-pYF4",
        "outputId": "88fab1f7-7e0e-4496-c277-327544310c4a"
      },
      "outputs": [
        {
          "output_type": "stream",
          "name": "stdout",
          "text": [
            "Epoch 1 | Train Loss: 0.6937 | Train Accuracy: 0.5000 | Validation Accuracy: 0.4925\n",
            "Epoch 2 | Train Loss: 0.6914 | Train Accuracy: 0.5202 | Validation Accuracy: 0.5206\n",
            "Epoch 3 | Train Loss: 0.6814 | Train Accuracy: 0.5637 | Validation Accuracy: 0.6876\n",
            "Epoch 4 | Train Loss: 0.5876 | Train Accuracy: 0.6961 | Validation Accuracy: 0.7214\n",
            "Epoch 5 | Train Loss: 0.5383 | Train Accuracy: 0.7385 | Validation Accuracy: 0.7336\n",
            "Epoch 6 | Train Loss: 0.5171 | Train Accuracy: 0.7521 | Validation Accuracy: 0.7355\n",
            "Epoch 7 | Train Loss: 0.5067 | Train Accuracy: 0.7607 | Validation Accuracy: 0.7336\n",
            "Epoch 8 | Train Loss: 0.5014 | Train Accuracy: 0.7614 | Validation Accuracy: 0.7308\n",
            "Epoch 9 | Train Loss: 0.4939 | Train Accuracy: 0.7647 | Validation Accuracy: 0.7439\n",
            "Epoch 10 | Train Loss: 0.4920 | Train Accuracy: 0.7687 | Validation Accuracy: 0.7467\n",
            "Epoch 11 | Train Loss: 0.4929 | Train Accuracy: 0.7668 | Validation Accuracy: 0.7420\n",
            "Epoch 12 | Train Loss: 0.4892 | Train Accuracy: 0.7703 | Validation Accuracy: 0.7317\n",
            "Epoch 13 | Train Loss: 0.4839 | Train Accuracy: 0.7748 | Validation Accuracy: 0.7430\n",
            "Epoch 14 | Train Loss: 0.4821 | Train Accuracy: 0.7730 | Validation Accuracy: 0.7514\n",
            "Epoch 15 | Train Loss: 0.4790 | Train Accuracy: 0.7795 | Validation Accuracy: 0.7364\n",
            "Epoch 16 | Train Loss: 0.4782 | Train Accuracy: 0.7768 | Validation Accuracy: 0.7477\n",
            "Epoch 17 | Train Loss: 0.4763 | Train Accuracy: 0.7803 | Validation Accuracy: 0.7552\n",
            "Epoch 18 | Train Loss: 0.4771 | Train Accuracy: 0.7795 | Validation Accuracy: 0.7439\n",
            "Epoch 19 | Train Loss: 0.4738 | Train Accuracy: 0.7800 | Validation Accuracy: 0.7561\n",
            "Epoch 20 | Train Loss: 0.4713 | Train Accuracy: 0.7823 | Validation Accuracy: 0.7570\n",
            "Epoch 21 | Train Loss: 0.4756 | Train Accuracy: 0.7792 | Validation Accuracy: 0.7383\n",
            "Epoch 22 | Train Loss: 0.4703 | Train Accuracy: 0.7832 | Validation Accuracy: 0.7542\n",
            "Epoch 23 | Train Loss: 0.4699 | Train Accuracy: 0.7856 | Validation Accuracy: 0.7655\n",
            "Epoch 24 | Train Loss: 0.4715 | Train Accuracy: 0.7807 | Validation Accuracy: 0.7533\n",
            "Epoch 25 | Train Loss: 0.4662 | Train Accuracy: 0.7864 | Validation Accuracy: 0.7523\n",
            "Epoch 26 | Train Loss: 0.4642 | Train Accuracy: 0.7876 | Validation Accuracy: 0.7458\n",
            "Epoch 27 | Train Loss: 0.4639 | Train Accuracy: 0.7878 | Validation Accuracy: 0.7598\n",
            "Epoch 28 | Train Loss: 0.4622 | Train Accuracy: 0.7884 | Validation Accuracy: 0.7608\n",
            "Early stopping triggered after 28 epochs\n"
          ]
        }
      ],
      "source": [
        "train_model(model, train_loader, valid_loader, epochs=30)"
      ]
    },
    {
      "cell_type": "code",
      "execution_count": 50,
      "metadata": {
        "colab": {
          "base_uri": "https://localhost:8080/"
        },
        "id": "RWndhqptpYF5",
        "outputId": "0e8c3fff-9b7b-4769-c1b0-0ed1ed5e71ff"
      },
      "outputs": [
        {
          "output_type": "stream",
          "name": "stdout",
          "text": [
            "Test Accuracy: 0.7580\n"
          ]
        },
        {
          "output_type": "stream",
          "name": "stderr",
          "text": [
            "<ipython-input-50-bda9ce76bc51>:2: FutureWarning: You are using `torch.load` with `weights_only=False` (the current default value), which uses the default pickle module implicitly. It is possible to construct malicious pickle data which will execute arbitrary code during unpickling (See https://github.com/pytorch/pytorch/blob/main/SECURITY.md#untrusted-models for more details). In a future release, the default value for `weights_only` will be flipped to `True`. This limits the functions that could be executed during unpickling. Arbitrary objects will no longer be allowed to be loaded via this mode unless they are explicitly allowlisted by the user via `torch.serialization.add_safe_globals`. We recommend you start setting `weights_only=True` for any use case where you don't have full control of the loaded file. Please open an issue on GitHub for any issues related to this experimental feature.\n",
            "  model.load_state_dict(torch.load('best_model.pt'))\n"
          ]
        }
      ],
      "source": [
        "# Load the best model\n",
        "model.load_state_dict(torch.load('best_model.pt'))\n",
        "\n",
        "# Evaluate the model on the test set\n",
        "test_acc = evaluate_model(model, test_loader)\n",
        "print(f'Test Accuracy: {test_acc:.4f}')"
      ]
    },
    {
      "cell_type": "markdown",
      "source": [
        "*Varying Batch Size & Learning Rate*\n",
        "\n",
        "1. Learning Rate: 0.0001\n",
        "Batch Size: 32\n",
        "Optimiser: Adam\n",
        "Accuracy: 73.2%\n",
        "\n",
        "2. Learning Rate: 0.0001,\n",
        "Batch Size: 64,\n",
        "Optimiser: Adam,\n",
        "Accuracy: 74.5%\n",
        "\n",
        "3. Learning Rate: 0.0001,\n",
        "Batch Size: 128,\n",
        "Optimiser: Adam,\n",
        "Accuracy: 75.8% <== Highest Overall\n",
        "\n",
        "4. Learning Rate: 0.001,\n",
        "Batch Size: 64,\n",
        "Optimiser: Adam,\n",
        "Accuracy: 72.7%\n",
        "\n",
        "\n",
        "5. Learning Rate: 0.001,\n",
        "Batch Size: 128,\n",
        "Optimiser: Adam,\n",
        "Accuracy: 74.2%\n",
        "\n",
        "\n",
        "6. Learning Rate: 0.0005,\n",
        "Batch Size: 64,\n",
        "Optimiser: Adam,\n",
        "Accuracy: 71.8%\n",
        "\n",
        "7. Learning Rate: 0.0005,\n",
        "Batch Size: 128,\n",
        "Optimiser: Adam,\n",
        "Accuracy: 74.7%\n",
        "\n",
        "*Varying Classifier*\n",
        "\n",
        "8. Learning Rate: 0.0001,\n",
        "Batch Size: 128,\n",
        "Optimiser: RMSprop,\n",
        "Accuracy: 74.2%\n",
        "\n",
        "9. Learning Rate: 0.001,\n",
        "Batch Size: 128,\n",
        "Optimiser: RMSprop,\n",
        "Accuracy: 59%\n"
      ],
      "metadata": {
        "id": "Xx_fCIIO8cY6"
      }
    }
  ],
  "metadata": {
    "kernelspec": {
      "display_name": "Python 3",
      "name": "python3"
    },
    "language_info": {
      "codemirror_mode": {
        "name": "ipython",
        "version": 3
      },
      "file_extension": ".py",
      "mimetype": "text/x-python",
      "name": "python",
      "nbconvert_exporter": "python",
      "pygments_lexer": "ipython3",
      "version": "3.9.6"
    },
    "colab": {
      "provenance": [],
      "gpuType": "T4"
    },
    "accelerator": "GPU"
  },
  "nbformat": 4,
  "nbformat_minor": 0
}